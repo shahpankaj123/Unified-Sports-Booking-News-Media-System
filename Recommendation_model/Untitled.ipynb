{
 "cells": [
  {
   "cell_type": "code",
   "execution_count": 1,
   "id": "deaffd64-5bf4-477b-9eed-f2c213294a5d",
   "metadata": {},
   "outputs": [],
   "source": [
    "import pandas as pd"
   ]
  },
  {
   "cell_type": "code",
   "execution_count": 2,
   "id": "253f0725-b0d8-45e1-afc6-010ae52d068b",
   "metadata": {},
   "outputs": [],
   "source": [
    "df = pd.read_csv('../dataset/news_dataset.csv')"
   ]
  },
  {
   "cell_type": "code",
   "execution_count": 3,
   "id": "18e3e203-c8d9-4d0d-b431-11cce14685e6",
   "metadata": {},
   "outputs": [
    {
     "data": {
      "text/plain": [
       "444429"
      ]
     },
     "execution_count": 3,
     "metadata": {},
     "output_type": "execute_result"
    }
   ],
   "source": [
    "df.size"
   ]
  },
  {
   "cell_type": "code",
   "execution_count": 11,
   "id": "d4c46846-cfad-431b-b283-08657d6efffe",
   "metadata": {},
   "outputs": [
    {
     "data": {
      "text/html": [
       "<div>\n",
       "<style scoped>\n",
       "    .dataframe tbody tr th:only-of-type {\n",
       "        vertical-align: middle;\n",
       "    }\n",
       "\n",
       "    .dataframe tbody tr th {\n",
       "        vertical-align: top;\n",
       "    }\n",
       "\n",
       "    .dataframe thead th {\n",
       "        text-align: right;\n",
       "    }\n",
       "</style>\n",
       "<table border=\"1\" class=\"dataframe\">\n",
       "  <thead>\n",
       "    <tr style=\"text-align: right;\">\n",
       "      <th></th>\n",
       "      <th>Headline</th>\n",
       "      <th>Sport</th>\n",
       "      <th>Date</th>\n",
       "    </tr>\n",
       "  </thead>\n",
       "  <tbody>\n",
       "    <tr>\n",
       "      <th>0</th>\n",
       "      <td>Live Cricket Scores | Cricket Live Score ball ...</td>\n",
       "      <td>Cricket</td>\n",
       "      <td>2023-09-15</td>\n",
       "    </tr>\n",
       "    <tr>\n",
       "      <th>1</th>\n",
       "      <td>QAT vs BAH Dream11 Prediction Today Match 2 Gu...</td>\n",
       "      <td>Cricket</td>\n",
       "      <td>2023-09-15</td>\n",
       "    </tr>\n",
       "    <tr>\n",
       "      <th>2</th>\n",
       "      <td>Meet Shubman Gill’s father Lakhwinder Singh, c...</td>\n",
       "      <td>Cricket</td>\n",
       "      <td>2023-09-15</td>\n",
       "    </tr>\n",
       "    <tr>\n",
       "      <th>3</th>\n",
       "      <td>Cricket World Live InPlay</td>\n",
       "      <td>Cricket</td>\n",
       "      <td>2023-09-15</td>\n",
       "    </tr>\n",
       "    <tr>\n",
       "      <th>4</th>\n",
       "      <td>RGD vs CAS Dream11 Prediction, Fantasy Cricket...</td>\n",
       "      <td>Cricket</td>\n",
       "      <td>2023-09-15</td>\n",
       "    </tr>\n",
       "  </tbody>\n",
       "</table>\n",
       "</div>"
      ],
      "text/plain": [
       "                                            Headline    Sport        Date\n",
       "0  Live Cricket Scores | Cricket Live Score ball ...  Cricket  2023-09-15\n",
       "1  QAT vs BAH Dream11 Prediction Today Match 2 Gu...  Cricket  2023-09-15\n",
       "2  Meet Shubman Gill’s father Lakhwinder Singh, c...  Cricket  2023-09-15\n",
       "3                          Cricket World Live InPlay  Cricket  2023-09-15\n",
       "4  RGD vs CAS Dream11 Prediction, Fantasy Cricket...  Cricket  2023-09-15"
      ]
     },
     "execution_count": 11,
     "metadata": {},
     "output_type": "execute_result"
    }
   ],
   "source": [
    "df.head()"
   ]
  },
  {
   "cell_type": "code",
   "execution_count": null,
   "id": "bf87fcd2-8818-46ef-a0f1-4e642cc71d12",
   "metadata": {},
   "outputs": [],
   "source": []
  }
 ],
 "metadata": {
  "kernelspec": {
   "display_name": "Python 3 (ipykernel)",
   "language": "python",
   "name": "python3"
  },
  "language_info": {
   "codemirror_mode": {
    "name": "ipython",
    "version": 3
   },
   "file_extension": ".py",
   "mimetype": "text/x-python",
   "name": "python",
   "nbconvert_exporter": "python",
   "pygments_lexer": "ipython3",
   "version": "3.13.5"
  }
 },
 "nbformat": 4,
 "nbformat_minor": 5
}
